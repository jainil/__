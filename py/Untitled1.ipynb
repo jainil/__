{
 "cells": [
  {
   "cell_type": "code",
   "execution_count": 42,
   "metadata": {
    "collapsed": false
   },
   "outputs": [
    {
     "name": "stdout",
     "output_type": "stream",
     "text": [
      "[2, 5, 1, 3, 4]\n",
      "2 bribes\n",
      "[2, 1, 5, 3, 4]\n",
      "3 bribes\n",
      "[2, 1, 3, 5, 4]\n",
      "Too Chaotic\n"
     ]
    }
   ],
   "source": [
    "def a_to_o(a):\n",
    "    return list(map(lambda i: {'n': i, 'c': 0}, a))\n",
    "\n",
    "def o_to_a(o):\n",
    "    return list(map(lambda i: i['n'], o))\n",
    "\n",
    "def sort_this(arr, predicate):\n",
    "    print(o_to_a(arr))\n",
    "    swapped = True\n",
    "    swapCount = 0\n",
    "    while swapped == True:\n",
    "        swapped = False\n",
    "        for i in range(len(arr) - 1):\n",
    "            if (predicate(arr[i], arr[i + 1])):\n",
    "                arr[i]['c'] += 1\n",
    "                if (arr[i]['c'] > 2):\n",
    "                    return 'Too Chaotic'\n",
    "                arr[i], arr[i + 1] = arr[i + 1], arr[i]\n",
    "                swapped = True\n",
    "                swapCount += 1\n",
    "                print(str(i+1) + ' bribes')\n",
    "                print(o_to_a(arr))\n",
    "    print(arr)\n",
    "    return swapCount\n",
    "\n",
    "arr = a_to_o([2, 5, 1, 3, 4])\n",
    "arr = sort_this(arr, lambda x, y: x['n'] > y['n'])\n",
    "\n",
    "print(arr)"
   ]
  }
 ],
 "metadata": {
  "kernelspec": {
   "display_name": "Python 3",
   "language": "python",
   "name": "python3"
  },
  "language_info": {
   "codemirror_mode": {
    "name": "ipython",
    "version": 3
   },
   "file_extension": ".py",
   "mimetype": "text/x-python",
   "name": "python",
   "nbconvert_exporter": "python",
   "pygments_lexer": "ipython3",
   "version": "3.5.1"
  }
 },
 "nbformat": 4,
 "nbformat_minor": 0
}
